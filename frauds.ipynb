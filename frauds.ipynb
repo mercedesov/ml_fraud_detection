{
 "cells": [
  {
   "cell_type": "markdown",
   "id": "3207120a-a90e-4d73-96e3-ff8e272604ef",
   "metadata": {},
   "source": [
    "**Online Payments Fraud Detection**\n",
    "\n",
    "\n",
    "Internet fraud has emerged as a pressing issue in the 21st century, sparking intense debates among online business owners. The unfortunate reality is that the prevalence of Internet fraud in industries like online lending, insurance, banking, travel, gaming, gambling, and dating is staggering. Every year, these fraudulent activities inflict billions of dollars in losses on unsuspecting online businesses.\n",
    "\n",
    "\n",
    "But there's hope! Machine learning algorithms are proving to be a powerful tool in the fight against Internet scams. By leveraging the power of machine learning, businesses can now detect and avoid the cunning traps laid out by cyber criminals before it's too late. So, don't fall prey to the wiles of Internet scammers - embrace the power of machine learning and stay ahead of the game!"
   ]
  },
  {
   "cell_type": "code",
   "execution_count": null,
   "id": "6048ac41-8738-4639-98cc-a9e66433ba9d",
   "metadata": {},
   "outputs": [],
   "source": [
    "import pandas as pd\n",
    "import numpy as np\n",
    "from sklearn.model_selection import train_test_split\n",
    "from sklearn.tree import DecisionTreeClassifier\n",
    "from sklearn.metrics import accuracy_score, precision_score, recall_score\n",
    "import plotly.express as px"
   ]
  },
  {
   "cell_type": "code",
   "execution_count": null,
   "id": "5b875646-1938-4066-983c-0882a0fb04b9",
   "metadata": {},
   "outputs": [],
   "source": [
    "df = pd.read_csv('~/Documents/ml_proj_1.1.csv')\n",
    "\n",
    "print(df.head())\n",
    "print(df.info())\n",
    "\n",
    "fig = px.pie(df, names='type', title='Distribution of Transaction Types')\n",
    "fig.show()\n",
    "\n",
    "fig = px.pie(df, names='isFraud', title='Distribution of Fraudulent Transactions')\n",
    "fig.show()"
   ]
  },
  {
   "cell_type": "code",
   "execution_count": null,
   "id": "51c07815-0cf1-44b7-8e89-0ffadb3df75c",
   "metadata": {},
   "outputs": [],
   "source": [
    "df = df.drop(['nameOrig', 'nameDest'], axis=1)\n",
    "\n",
    "df = pd.get_dummies(df, columns=['type'])\n",
    "\n",
    "X = df.drop('isFraud', axis=1)\n",
    "y = df['isFraud']\n",
    "\n",
    "X_train, X_test, y_train, y_test = train_test_split(X, y, test_size=0.3, random_state=42)\n"
   ]
  },
  {
   "cell_type": "code",
   "execution_count": null,
   "id": "1da80a69-8875-4455-922b-9dfd2091da77",
   "metadata": {},
   "outputs": [],
   "source": [
    "model = DecisionTreeClassifier(random_state=42)\n",
    "model.fit(X_train, y_train)\n"
   ]
  },
  {
   "cell_type": "code",
   "execution_count": null,
   "id": "a1e15ed1-74e0-4781-92d5-032a7ac64db4",
   "metadata": {},
   "outputs": [],
   "source": [
    "y_pred = model.predict(X_test)\n",
    "\n",
    "accuracy = accuracy_score(y_test, y_pred)\n",
    "precision = precision_score(y_test, y_pred)\n",
    "recall = recall_score(y_test, y_pred)\n",
    "\n",
    "print(f'Accuracy of the model: {accuracy:.2f}')\n",
    "print(f'Precision of the model: {precision:.2f}')\n",
    "print(f'Recall of the model: {recall:.2f}')"
   ]
  },
  {
   "cell_type": "code",
   "execution_count": null,
   "id": "79cabaa7-7b75-4f53-a984-d821c692d4cf",
   "metadata": {},
   "outputs": [],
   "source": [
    "sample = X_test.iloc[0:1]\n",
    "prediction = model.predict(sample)\n",
    "print(f'Prediction for the sample: {\"Fraudulent\" if prediction[0] == 1 else \"Not Fraudulent\"}')"
   ]
  }
 ],
 "metadata": {
  "kernelspec": {
   "display_name": "Python 3 (ipykernel)",
   "language": "python",
   "name": "python3"
  },
  "language_info": {
   "codemirror_mode": {
    "name": "ipython",
    "version": 3
   },
   "file_extension": ".py",
   "mimetype": "text/x-python",
   "name": "python",
   "nbconvert_exporter": "python",
   "pygments_lexer": "ipython3",
   "version": "3.9.6"
  }
 },
 "nbformat": 4,
 "nbformat_minor": 5
}
